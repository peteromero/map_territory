{
 "cells": [
  {
   "cell_type": "code",
   "execution_count": 50,
   "metadata": {},
   "outputs": [
    {
     "name": "stdout",
     "output_type": "stream",
     "text": [
      "Requirement already satisfied: pynetlogo in ./.pyenv/versions/3.9.4/envs/jupyter/lib/python3.9/site-packages (0.5.1)\n",
      "Requirement already satisfied: pandas in ./.pyenv/versions/3.9.4/envs/jupyter/lib/python3.9/site-packages (from pynetlogo) (1.5.2)\n",
      "Requirement already satisfied: numpy in ./.pyenv/versions/3.9.4/envs/jupyter/lib/python3.9/site-packages (from pynetlogo) (1.24.1)\n",
      "Requirement already satisfied: jpype1 in ./.pyenv/versions/3.9.4/envs/jupyter/lib/python3.9/site-packages (from pynetlogo) (1.5.0)\n",
      "Requirement already satisfied: packaging in ./.pyenv/versions/3.9.4/envs/jupyter/lib/python3.9/site-packages (from jpype1->pynetlogo) (22.0)\n",
      "Requirement already satisfied: python-dateutil>=2.8.1 in ./.pyenv/versions/3.9.4/envs/jupyter/lib/python3.9/site-packages (from pandas->pynetlogo) (2.8.2)\n",
      "Requirement already satisfied: pytz>=2020.1 in ./.pyenv/versions/3.9.4/envs/jupyter/lib/python3.9/site-packages (from pandas->pynetlogo) (2022.7)\n",
      "Requirement already satisfied: six>=1.5 in ./.pyenv/versions/3.9.4/envs/jupyter/lib/python3.9/site-packages (from python-dateutil>=2.8.1->pandas->pynetlogo) (1.16.0)\n"
     ]
    }
   ],
   "source": [
    "!pip install pynetlogo"
   ]
  },
  {
   "cell_type": "code",
   "execution_count": 47,
   "metadata": {},
   "outputs": [],
   "source": [
    "%matplotlib inline\n",
    "\n",
    "import pandas as pd\n",
    "import matplotlib.pyplot as plt\n",
    "import seaborn as sns\n",
    "\n",
    "sns.set_style(\"white\")\n",
    "sns.set_context(\"talk\")\n",
    "\n",
    "import pynetlogo\n",
    "\n"
   ]
  },
  {
   "cell_type": "markdown",
   "metadata": {},
   "source": []
  },
  {
   "cell_type": "code",
   "execution_count": 40,
   "metadata": {},
   "outputs": [
    {
     "ename": "java.lang.NoClassDefFoundError",
     "evalue": "java.lang.NoClassDefFoundError: Could not initialize class org.jpype.pkg.JPypePackageManager",
     "output_type": "error",
     "traceback": [
      "\u001b[0;31m---------------------------------------------------------------------------\u001b[0m",
      "\u001b[0;31mException\u001b[0m                                 Traceback (most recent call last)",
      "File \u001b[0;32morg.jpype.JPypeContext.java:-1\u001b[0m, in \u001b[0;36morg.jpype.JPypeContext.getPackage\u001b[0;34m()\u001b[0m\n",
      "\u001b[0;31mException\u001b[0m: Java Exception",
      "\nThe above exception was the direct cause of the following exception:\n",
      "\u001b[0;31mjava.lang.NoClassDefFoundError\u001b[0m            Traceback (most recent call last)",
      "Cell \u001b[0;32mIn[40], line 1\u001b[0m\n\u001b[0;32m----> 1\u001b[0m netlogo \u001b[38;5;241m=\u001b[39m \u001b[43mpynetlogo\u001b[49m\u001b[38;5;241;43m.\u001b[39;49m\u001b[43mNetLogoLink\u001b[49m\u001b[43m(\u001b[49m\n\u001b[1;32m      2\u001b[0m \u001b[43m    \u001b[49m\u001b[43mgui\u001b[49m\u001b[38;5;241;43m=\u001b[39;49m\u001b[38;5;28;43;01mTrue\u001b[39;49;00m\u001b[43m,\u001b[49m\u001b[43m   \u001b[49m\n\u001b[1;32m      3\u001b[0m \u001b[43m    \u001b[49m\u001b[38;5;66;43;03m# jvm_path=\"/Users/peter/Downloads/jdk/jdk-21.0.2.ARM.jdk/Contents/MacOS/libjli.dylib\",\u001b[39;49;00m\n\u001b[1;32m      4\u001b[0m \u001b[43m    \u001b[49m\u001b[38;5;66;43;03m# jvm_path=\"/Users/peter/Downloads/jdk/jdk-21.0.2.x64.jdk/Contents/MacOS/libjli.dylib\",\u001b[39;49;00m\n\u001b[1;32m      5\u001b[0m \u001b[43m    \u001b[49m\u001b[43mjvm_path\u001b[49m\u001b[38;5;241;43m=\u001b[39;49m\u001b[38;5;124;43m\"\u001b[39;49m\u001b[38;5;124;43m/Library/Java/JavaVirtualMachines/amazon-corretto-8.jdk/Contents/MacOS/libjli.dylib\u001b[39;49m\u001b[38;5;124;43m\"\u001b[39;49m\u001b[43m,\u001b[49m\n\u001b[1;32m      6\u001b[0m \u001b[43m    \u001b[49m\u001b[43m)\u001b[49m\n",
      "File \u001b[0;32m~/.pyenv/versions/jupyter/lib/python3.9/site-packages/pynetlogo/core.py:206\u001b[0m, in \u001b[0;36mNetLogoLink.__init__\u001b[0;34m(self, gui, thd, netlogo_home, jvm_path, jvmargs)\u001b[0m\n\u001b[1;32m    204\u001b[0m     \u001b[38;5;28;01mif\u001b[39;00m \u001b[38;5;124m\"\u001b[39m\u001b[38;5;124mextensions\u001b[39m\u001b[38;5;124m\"\u001b[39m \u001b[38;5;129;01min\u001b[39;00m dirs:\n\u001b[1;32m    205\u001b[0m         exts \u001b[38;5;241m=\u001b[39m os\u001b[38;5;241m.\u001b[39mpath\u001b[38;5;241m.\u001b[39mjoin(\u001b[38;5;28mself\u001b[39m\u001b[38;5;241m.\u001b[39mnetlogo_home, \u001b[38;5;124m\"\u001b[39m\u001b[38;5;124mextensions\u001b[39m\u001b[38;5;124m\"\u001b[39m)\n\u001b[0;32m--> 206\u001b[0m         \u001b[43mjpype\u001b[49m\u001b[38;5;241;43m.\u001b[39;49m\u001b[43mjava\u001b[49m\u001b[38;5;241;43m.\u001b[39;49m\u001b[43mlang\u001b[49m\u001b[38;5;241m.\u001b[39mSystem\u001b[38;5;241m.\u001b[39msetProperty(\u001b[38;5;124m\"\u001b[39m\u001b[38;5;124mnetlogo.extensions.dir\u001b[39m\u001b[38;5;124m\"\u001b[39m, exts)\n\u001b[1;32m    207\u001b[0m         \u001b[38;5;28;01mbreak\u001b[39;00m\n\u001b[1;32m    208\u001b[0m \u001b[38;5;28;01melse\u001b[39;00m:\n",
      "\u001b[0;31mjava.lang.NoClassDefFoundError\u001b[0m: java.lang.NoClassDefFoundError: Could not initialize class org.jpype.pkg.JPypePackageManager"
     ]
    }
   ],
   "source": [
    "netlogo = pynetlogo.NetLogoLink(\n",
    "    gui=True,   \n",
    "    # jvm_path=\"/Users/peter/Downloads/jdk/jdk-21.0.2.ARM.jdk/Contents/MacOS/libjli.dylib\",\n",
    "    # jvm_path=\"/Users/peter/Downloads/jdk/jdk-21.0.2.x64.jdk/Contents/MacOS/libjli.dylib\",\n",
    "    jvm_path=\"/Library/Java/JavaVirtualMachines/amazon-corretto-8.jdk/Contents/MacOS/libjli.dylib\",\n",
    "    )"
   ]
  },
  {
   "cell_type": "code",
   "execution_count": null,
   "metadata": {},
   "outputs": [],
   "source": []
  }
 ],
 "metadata": {
  "kernelspec": {
   "display_name": "Python 3 (ipykernel)",
   "language": "python",
   "name": "python3"
  }
 },
 "nbformat": 4,
 "nbformat_minor": 2
}
